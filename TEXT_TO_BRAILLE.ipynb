{
  "nbformat": 4,
  "nbformat_minor": 0,
  "metadata": {
    "colab": {
      "provenance": [],
      "gpuType": "T4"
    },
    "kernelspec": {
      "name": "python3",
      "display_name": "Python 3"
    },
    "language_info": {
      "name": "python"
    },
    "accelerator": "GPU",
    "gpuClass": "standard"
  },
  "cells": [
    {
      "cell_type": "code",
      "execution_count": 1,
      "metadata": {
        "id": "APN2WQv8zPsO"
      },
      "outputs": [],
      "source": [
        "braille_mapping = {\n",
        "    'a': '⠁',\n",
        "    'b': '⠃',\n",
        "    'c': '⠉',\n",
        "    'd': '⠙',\n",
        "    'e': '⠑',\n",
        "    'f': '⠋',\n",
        "    'g': '⠛',\n",
        "    'h': '⠓',\n",
        "    'i': '⠊',\n",
        "    'j': '⠚',\n",
        "    'k': '⠅',\n",
        "    'l': '⠇',\n",
        "    'm': '⠍',\n",
        "    'n': '⠝',\n",
        "    'o': '⠕',\n",
        "    'p': '⠏',\n",
        "    'q': '⠟',\n",
        "    'r': '⠗',\n",
        "    's': '⠎',\n",
        "    't': '⠞',\n",
        "    'u': '⠥',\n",
        "    'v': '⠧',\n",
        "    'w': '⠺',\n",
        "    'x': '⠭',\n",
        "    'y': '⠽',\n",
        "    'z': '⠵',\n",
        "    ' ': '⠀', \n",
        "}"
      ]
    },
    {
      "cell_type": "code",
      "source": [
        "def text_to_braille(text):\n",
        "    braille_text = ''\n",
        "    for char in text:\n",
        "        braille_char = braille_mapping.get(char.lower(), char)\n",
        "        braille_text += braille_char\n",
        "    return braille_text"
      ],
      "metadata": {
        "id": "6g64rw4Q0Q5v"
      },
      "execution_count": 2,
      "outputs": []
    },
    {
      "cell_type": "code",
      "source": [
        "text = \"Hello World\"\n",
        "braille_text = text_to_braille(text)\n",
        "print(braille_text)"
      ],
      "metadata": {
        "id": "DV8pucLn0Xeh",
        "colab": {
          "base_uri": "https://localhost:8080/"
        },
        "outputId": "9c0856df-d5a2-4481-9e12-eb74275da8fa"
      },
      "execution_count": 3,
      "outputs": [
        {
          "output_type": "stream",
          "name": "stdout",
          "text": [
            "⠓⠑⠇⠇⠕⠀⠺⠕⠗⠇⠙\n"
          ]
        }
      ]
    }
  ]
}